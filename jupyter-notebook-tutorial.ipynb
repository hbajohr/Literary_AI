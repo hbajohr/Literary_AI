{
 "cells": [
  {
   "cell_type": "markdown",
   "metadata": {},
   "source": [
    "# GERM 39B - PYTHON WORKSHOP I\n",
    "\n",
    "# Jupyter Notebook Tutorial\n",
    "\n",
    "Adapted from the work of [Allison Parrish](http://www.decontextualize.com/)\n",
    "\n",
    "Jupyter Notebook gives you a convenient way to experiment with Python code, interspersing your experiments with notes and documentation. You can do all of this without having to muck about on the command line, and the resulting file can be easily published and shared with other people. In this course, I'll be using Jupyter Notebook to do in-class examples, and the notes will be made available as Jupyter Notebooks. Some of the homeworks will be assigned in the form of Jupyter Notebooks as well.\n",
    "\n",
    "An Jupyter Notebook consists of a number of \"cells,\" stacked on the page from top to bottom. Cells can have text or code in them. You can change a cell's type using the \"Cell\" dropdown menu at the top of the page; select either `Code` for Python code or `Markdown` for text.\n",
    "\n",
    "## Text cells\n",
    "\n",
    "Make a new cell, change its type to `Markdown`, type some stuff and press `Ctrl-Enter`. Jupyter Notebook will \"render\" the text and display it on the page in rendered format. You can hit `Enter` or click in the cell to edit its contents again. Text in `Markdown` cells is rendered according to a set of conventions called Markdown. Markdown is a simple language for marking up text with basic text formatting information (such as bold, italics, hyperlinks, tables, etc.). [Here's a tutorial](http://markdowntutorial.com/). You'll also be learning Markdown in more detail in the Foundations course.\n",
    "\n",
    "## Code cells\n",
    "\n",
    "You can also press `Alt-Enter` (`Option-Enter` on Mac) to render the current cell and create a new cell. New cells will by default be `Code` cells. Try it now!"
   ]
  },
  {
   "cell_type": "code",
   "execution_count": 7,
   "metadata": {},
   "outputs": [
    {
     "name": "stdout",
     "output_type": "stream",
     "text": [
      "This is a code cell.\n",
      "\n",
      "Any Python code you type in this cell will be run when you press the 'Run' button, in the tool bar\n",
      "or when you press Ctrl-Enter.\n",
      "\n",
      "If the code evaluates to something, or if it produces output, that output will be\n",
      "shown beneath the cell after you run it.\n"
     ]
    }
   ],
   "source": [
    "print(\"This is a code cell.\")\n",
    "print(\"\")\n",
    "print(\"Any Python code you type in this cell will be run when you press the 'Run' button, in the tool bar\")\n",
    "print(\"or when you press Ctrl-Enter.\")\n",
    "print(\"\")\n",
    "print(\"If the code evaluates to something, or if it produces output, that output will be\")\n",
    "print(\"shown beneath the cell after you run it.\")"
   ]
  },
  {
   "cell_type": "markdown",
   "metadata": {},
   "source": [
    "Now double click the code cell above and change the text in the print statements. Be careful not to lose the quotation marks! Execute the cell again and oberserve that the output changes."
   ]
  },
  {
   "cell_type": "code",
   "execution_count": 3,
   "metadata": {},
   "outputs": [
    {
     "name": "stdout",
     "output_type": "stream",
     "text": [
      "If your Python code generates an error, the error will be displayed in addition\n",
      "to any output already produced.\n"
     ]
    },
    {
     "ename": "ZeroDivisionError",
     "evalue": "division by zero",
     "output_type": "error",
     "traceback": [
      "\u001b[0;31m---------------------------------------------------------------------------\u001b[0m",
      "\u001b[0;31mZeroDivisionError\u001b[0m                         Traceback (most recent call last)",
      "\u001b[0;32m<ipython-input-3-b1c1f52e3cdc>\u001b[0m in \u001b[0;36m<module>\u001b[0;34m()\u001b[0m\n\u001b[1;32m      2\u001b[0m \u001b[0mprint\u001b[0m\u001b[0;34m(\u001b[0m\u001b[0;34m\"to any output already produced.\"\u001b[0m\u001b[0;34m)\u001b[0m\u001b[0;34m\u001b[0m\u001b[0m\n\u001b[1;32m      3\u001b[0m \u001b[0;34m\u001b[0m\u001b[0m\n\u001b[0;32m----> 4\u001b[0;31m \u001b[0;36m1\u001b[0m \u001b[0;34m/\u001b[0m \u001b[0;36m0\u001b[0m\u001b[0;34m\u001b[0m\u001b[0m\n\u001b[0m",
      "\u001b[0;31mZeroDivisionError\u001b[0m: division by zero"
     ]
    }
   ],
   "source": [
    "print(\"If your Python code generates an error, the error will be displayed in addition\")\n",
    "print(\"to any output already produced.\")\n",
    "\n",
    "1 / 0"
   ]
  },
  {
   "cell_type": "markdown",
   "metadata": {},
   "source": [
    "## Order of execution. \n",
    "\n",
    "In Jupyter notebooks, cells can be executed in any order. \n",
    "\n",
    "After execution, a line number appears that helps keeping track of the order of execution.\n",
    "\n",
    "We will demonstrate this using variables. A variable contains a value that can be 1) accessed and 2) changed later. \n",
    "This means that a variable defined in one cell may be accessed in a second and redefined in a third, in any order.\n",
    "\n",
    "1. Below, run the first cell (assigning the variable `name` the value \"Ada Lovelace\").\n",
    "2. Then run the second cell - it will print the value of `name`.\n",
    "3. The third cell will give `name` a new value. Run it.\n",
    "4. Now run the second cell again - you will see that `name` how prints a different output."
   ]
  },
  {
   "cell_type": "code",
   "execution_count": 13,
   "metadata": {},
   "outputs": [],
   "source": [
    "name = \"Ada Lovelace\""
   ]
  },
  {
   "cell_type": "code",
   "execution_count": 14,
   "metadata": {},
   "outputs": [
    {
     "name": "stdout",
     "output_type": "stream",
     "text": [
      "Ada Lovelace\n"
     ]
    }
   ],
   "source": [
    "print(name)"
   ]
  },
  {
   "cell_type": "code",
   "execution_count": 4,
   "metadata": {},
   "outputs": [
    {
     "name": "stdout",
     "output_type": "stream",
     "text": [
      "cheddar\n"
     ]
    }
   ],
   "source": [
    "name = \"Charles Babbage\""
   ]
  },
  {
   "cell_type": "markdown",
   "metadata": {},
   "source": [
    "Note the numbers on the left to the cell: this is the order in which the code has been executed. The highest number is the cell last executed.\n",
    "Keep in mind that this can mean that you overwrite something you have done earlier. But don't fret, you can always simply go back to an earlier cell and execute it again."
   ]
  },
  {
   "cell_type": "markdown",
   "metadata": {},
   "source": [
    "## A note on comments"
   ]
  },
  {
   "cell_type": "markdown",
   "metadata": {},
   "source": [
    "Comments are lines in code that are marked with a special character so they will not be executed. This allows programmers to talk about their code, in their code. Examples are explanations of what certain passages do (to make code more readable) and noting to dos, but also to simply \"switch off\" a line of code without deleting it. This is called \"to comment out\".\n",
    "In Python, the pound sign \"#\" is the character that will make a comment."
   ]
  },
  {
   "cell_type": "code",
   "execution_count": 18,
   "metadata": {},
   "outputs": [
    {
     "name": "stdout",
     "output_type": "stream",
     "text": [
      "Ada Lovelace\n"
     ]
    }
   ],
   "source": [
    "# The pound sign can be at the beginning of a line \n",
    "name = \"Ada Lovelace\" # Or it can be at the end of a line, executing the line until the pound sign is reached.\n",
    "\n",
    "# One can also use a comment to \"switch off\" a line of code one does not want to delete. \n",
    "# name = \"Charles Babbage\"\n",
    "print(name)"
   ]
  },
  {
   "cell_type": "markdown",
   "metadata": {},
   "source": [
    "Try to comment out the first assingment of the name variable and make the second assignment the active one."
   ]
  },
  {
   "cell_type": "markdown",
   "metadata": {},
   "source": [
    "## Keyboard shortcuts\n",
    "\n",
    "As mentioned above, `Ctrl-Enter` runs the current cell; `Alt-Enter` (`Option-Enter`) runs the current cell and then creates a new cell. `Enter` will start editing whichever cell is currently selected. To quit editing a cell, hit `Esc`. If the cursor isn't currently active in any cell (i.e., after you've hit `Esc`), a number of other keyboard shortcuts are available to you:\n",
    "\n",
    "* `m` converts the selected cell to a Markdown cell\n",
    "* `b` inserts a new cell below the selected one\n",
    "* `x` \"cuts\" the selected cell; `v` pastes a previously cut cell below the selected cell\n",
    "* `h` brings up a help screen with many more shortcuts.\n",
    "\n",
    "## Saving your work\n",
    "\n",
    "Hit `Cmd-S` at any time to save your notebook. Jupyter Notebook also automatically saves occasionally. Make sure to give your notebook a descriptive title by clicking on \"Untitled0\" at the top of the page and replacing the text accordingly. Notebooks you save will be available on your server whenever you log in again, from wherever you log into the server.\n",
    "\n",
    "You can \"download\" your notebook in various formats via `File > Download as`. You can download your notebook as a static HTML file (for, e.g., uploading to a web site), or as a `.ipynb` file, which you can share with other people who have Jupyter Notebook or make available online through, e.g., [nbviewer](http://nbviewer.ipython.org/)."
   ]
  }
 ],
 "metadata": {
  "kernelspec": {
   "display_name": "Python 3 (ipykernel)",
   "language": "python",
   "name": "python3"
  },
  "language_info": {
   "codemirror_mode": {
    "name": "ipython",
    "version": 3
   },
   "file_extension": ".py",
   "mimetype": "text/x-python",
   "name": "python",
   "nbconvert_exporter": "python",
   "pygments_lexer": "ipython3",
   "version": "3.11.9"
  }
 },
 "nbformat": 4,
 "nbformat_minor": 4
}
