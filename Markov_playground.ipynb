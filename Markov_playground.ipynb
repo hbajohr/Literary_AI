{
 "cells": [
  {
   "cell_type": "markdown",
   "id": "e8a748ae-e4e0-4bbc-9308-ef40842c9217",
   "metadata": {},
   "source": [
    "# Make your own mash-up\n",
    "\n",
    "1. Find a partner\n",
    "2. Go to [Project Gutenberg](https://www.gutenberg.org/) and select two works you want to combine\n",
    "3. Download them as .txt files and upload them to your Datahub (use the Literary AI folder)\n",
    "4. Use this script to create a mash-up\n",
    "5. Play around with different settings like \"state_size\" or create a loop for longer texts\n",
    "6. If there is time, try to create a poem (see \"Generating with non-prose text\" in the homework file)"
   ]
  },
  {
   "cell_type": "code",
   "execution_count": null,
   "id": "f8c4e32b-8c89-42ab-976a-dca1538675c1",
   "metadata": {},
   "outputs": [],
   "source": [
    "#Install Markovify\n",
    "import sys\n",
    "!{sys.executable} -m pip install markovify\n",
    "import markovify"
   ]
  },
  {
   "cell_type": "code",
   "execution_count": null,
   "id": "a9fff905-88dc-4f54-9339-95d9cf8b87b0",
   "metadata": {},
   "outputs": [],
   "source": [
    "#Load a text file and create a generator\n",
    "text_a = open(\"xxx1.txt\").read() #Change to own file name\n",
    "text_b = open(\"xxx2.txt\").read() #Change to own file name\n",
    "\n",
    "generator_a = markovify.Text(text_a)\n",
    "generator_b = markovify.Text(text_b)"
   ]
  },
  {
   "cell_type": "markdown",
   "id": "d237fdad-f7bf-46b4-b94f-a7c1e0a61cab",
   "metadata": {},
   "source": [
    "### Now generate a text - see the homework file: the easiest way for a single file is: "
   ]
  },
  {
   "cell_type": "code",
   "execution_count": null,
   "id": "7f0f04e9-d0b9-4dcf-98da-b9585861c19a",
   "metadata": {},
   "outputs": [],
   "source": [
    "print(generator_a.make_sentence())"
   ]
  },
  {
   "cell_type": "markdown",
   "id": "3b8a5097-95e2-471d-b171-753fa7f37e19",
   "metadata": {},
   "source": [
    "### and for a combined text (mash-up): "
   ]
  },
  {
   "cell_type": "code",
   "execution_count": null,
   "id": "9e7d6e02-d75d-444e-a3a6-814bbae3989d",
   "metadata": {},
   "outputs": [],
   "source": [
    "combo = markovify.combine([generator_a, generator_b], [0.5, 0.5])\n",
    "print(combo.make_sentence())"
   ]
  },
  {
   "cell_type": "markdown",
   "id": "0fc8ade5-ce59-4dd8-bbc1-854cc25956c8",
   "metadata": {},
   "source": [
    "### Now start changing the settings or create a loop to produce longer output"
   ]
  },
  {
   "cell_type": "code",
   "execution_count": null,
   "id": "d92518d6-2900-46cb-91d7-04a4fe566a25",
   "metadata": {},
   "outputs": [],
   "source": []
  }
 ],
 "metadata": {
  "kernelspec": {
   "display_name": "Python 3 (ipykernel)",
   "language": "python",
   "name": "python3"
  },
  "language_info": {
   "codemirror_mode": {
    "name": "ipython",
    "version": 3
   },
   "file_extension": ".py",
   "mimetype": "text/x-python",
   "name": "python",
   "nbconvert_exporter": "python",
   "pygments_lexer": "ipython3",
   "version": "3.11.13"
  }
 },
 "nbformat": 4,
 "nbformat_minor": 5
}
