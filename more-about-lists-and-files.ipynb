{
 "cells": [
  {
   "cell_type": "markdown",
   "metadata": {
    "collapsed": true,
    "jupyter": {
     "outputs_hidden": true
    }
   },
   "source": [
    "# GERM 39B - PYTHON WORKSHOP I\n",
    "\n",
    "# More about lists; reading files\n",
    "\n",
    "Adapted from the work of [Allison Parrish](http://www.decontextualize.com/)"
   ]
  },
  {
   "cell_type": "markdown",
   "metadata": {},
   "source": [
    "### Getting values out of lists: Indexes\n",
    "\n",
    "Once we have a list, we might want to get values *out* of the list. You can write a Python expression that evaluates to a particular value in a list using square brackets to the right of your list, with a number representing which value you want, numbered from the beginning (the left-hand side) of the list. Here's an example:"
   ]
  },
  {
   "cell_type": "code",
   "execution_count": 6,
   "metadata": {},
   "outputs": [
    {
     "data": {
      "text/plain": [
       "15"
      ]
     },
     "execution_count": 6,
     "metadata": {},
     "output_type": "execute_result"
    }
   ],
   "source": [
    "[5, 10, 15, 20, 6][2]"
   ]
  },
  {
   "cell_type": "markdown",
   "metadata": {},
   "source": [
    "If we were to say this expression out loud, it might read, \"I have a list of four things: 5, 10, 15, 20. Give me back the second item in the list.\" Python evaluates that expression to `15`, the second item in the list.\n",
    "\n",
    "Here's what it looks like to use this indexing notation on a list stored in a variable:"
   ]
  },
  {
   "cell_type": "code",
   "execution_count": 7,
   "metadata": {},
   "outputs": [
    {
     "data": {
      "text/plain": [
       "15"
      ]
     },
     "execution_count": 7,
     "metadata": {},
     "output_type": "execute_result"
    }
   ],
   "source": [
    "my_numbers = [5, 10, 15, 20, 6]\n",
    "my_numbers[2]"
   ]
  },
  {
   "cell_type": "markdown",
   "metadata": {},
   "source": [
    "#### The second item? Am I seeing things?! 15 is clearly the third item in the list.\n",
    "\n",
    "You're right—good catch. But for reasons too complicated to go into here, Python (along with many other programming languages!) starts list indexes at 0, instead of 1. So what looks like the third element of the list to human eyes is actually the second element to Python. The first element of the list is accessed using index 0, like so:"
   ]
  },
  {
   "cell_type": "code",
   "execution_count": 8,
   "metadata": {},
   "outputs": [
    {
     "data": {
      "text/plain": [
       "5"
      ]
     },
     "execution_count": 8,
     "metadata": {},
     "output_type": "execute_result"
    }
   ],
   "source": [
    "[5, 10, 15, 20, 6][0]"
   ]
  },
  {
   "cell_type": "markdown",
   "metadata": {},
   "source": [
    "The way I like to conceptualize this is to think of list indexes not as specifying the number of the item you want, but instead specifying how \"far away\" from the beginning of the list to look for that value."
   ]
  },
  {
   "cell_type": "markdown",
   "metadata": {},
   "source": [
    "#### Indexes can be expressions too\n",
    "\n",
    "The thing that goes inside of the index brackets doesn't have to be a number that you've just typed in there. Any Python expression that evaluates to an integer can go in there."
   ]
  },
  {
   "cell_type": "code",
   "execution_count": 9,
   "metadata": {},
   "outputs": [
    {
     "data": {
      "text/plain": [
       "6"
      ]
     },
     "execution_count": 9,
     "metadata": {},
     "output_type": "execute_result"
    }
   ],
   "source": [
    "my_numbers[2 * 2]"
   ]
  },
  {
   "cell_type": "code",
   "execution_count": 10,
   "metadata": {},
   "outputs": [
    {
     "data": {
      "text/plain": [
       "20"
      ]
     },
     "execution_count": 10,
     "metadata": {},
     "output_type": "execute_result"
    }
   ],
   "source": [
    "x = 3\n",
    "[5, 10, 15, 20, 6][x]"
   ]
  },
  {
   "cell_type": "markdown",
   "metadata": {},
   "source": [
    "## Most importantly: Lists of strings can be indexed, too!"
   ]
  },
  {
   "cell_type": "code",
   "execution_count": 12,
   "metadata": {},
   "outputs": [
    {
     "data": {
      "text/plain": [
       "'bunny'"
      ]
     },
     "execution_count": 12,
     "metadata": {},
     "output_type": "execute_result"
    }
   ],
   "source": [
    "pets = [\"cat\", \"dog\", \"parrot\", \"bunny\", \"hamster\"]\n",
    "pets[3]"
   ]
  },
  {
   "cell_type": "markdown",
   "metadata": {},
   "source": [
    "### Other operations on lists\n",
    "\n",
    "Because lists are so central to Python programming, Python includes a number of built-in functions that allow us to write expressions that evaluate to interesting facts about lists. For example, try putting a list between the parentheses of the `len()` function. It will evaluate to the number of items in the list:"
   ]
  },
  {
   "cell_type": "code",
   "execution_count": 13,
   "metadata": {},
   "outputs": [
    {
     "data": {
      "text/plain": [
       "5"
      ]
     },
     "execution_count": 13,
     "metadata": {},
     "output_type": "execute_result"
    }
   ],
   "source": [
    "len(pets)"
   ]
  },
  {
   "cell_type": "code",
   "execution_count": 14,
   "metadata": {
    "scrolled": true
   },
   "outputs": [
    {
     "data": {
      "text/plain": [
       "1"
      ]
     },
     "execution_count": 14,
     "metadata": {},
     "output_type": "execute_result"
    }
   ],
   "source": [
    "len([20])"
   ]
  },
  {
   "cell_type": "code",
   "execution_count": 15,
   "metadata": {},
   "outputs": [
    {
     "data": {
      "text/plain": [
       "0"
      ]
     },
     "execution_count": 15,
     "metadata": {},
     "output_type": "execute_result"
    }
   ],
   "source": [
    "len([])"
   ]
  },
  {
   "cell_type": "markdown",
   "metadata": {},
   "source": [
    "The `in` operator checks to see if the value on the left-hand side is in the list on the right-hand side."
   ]
  },
  {
   "cell_type": "code",
   "execution_count": 16,
   "metadata": {},
   "outputs": [
    {
     "data": {
      "text/plain": [
       "False"
      ]
     },
     "execution_count": 16,
     "metadata": {},
     "output_type": "execute_result"
    }
   ],
   "source": [
    "\"chinchilla\" in pets"
   ]
  },
  {
   "cell_type": "code",
   "execution_count": 17,
   "metadata": {},
   "outputs": [
    {
     "data": {
      "text/plain": [
       "True"
      ]
     },
     "execution_count": 17,
     "metadata": {},
     "output_type": "execute_result"
    }
   ],
   "source": [
    "\"cat\" in pets"
   ]
  },
  {
   "cell_type": "markdown",
   "metadata": {},
   "source": [
    "And you can sort the elements of a list alphabetically or numerically using `sorted`:"
   ]
  },
  {
   "cell_type": "code",
   "execution_count": 18,
   "metadata": {},
   "outputs": [
    {
     "data": {
      "text/plain": [
       "(['bunny', 'cat', 'dog', 'hamster', 'parrot'], [5, 6, 10, 15, 20])"
      ]
     },
     "execution_count": 18,
     "metadata": {},
     "output_type": "execute_result"
    }
   ],
   "source": [
    "sorted(pets), sorted(my_numbers)"
   ]
  },
  {
   "cell_type": "markdown",
   "metadata": {},
   "source": [
    "If you want to extend to your list, `.append()` will add an element at the end:"
   ]
  },
  {
   "cell_type": "code",
   "execution_count": 19,
   "metadata": {},
   "outputs": [
    {
     "data": {
      "text/plain": [
       "['cat', 'dog', 'parrot', 'bunny', 'hamster', 'armadillo']"
      ]
     },
     "execution_count": 19,
     "metadata": {},
     "output_type": "execute_result"
    }
   ],
   "source": [
    "pets.append(\"armadillo\")\n",
    "pets"
   ]
  },
  {
   "cell_type": "markdown",
   "metadata": {},
   "source": [
    "And `.remove()` removes any element:"
   ]
  },
  {
   "cell_type": "code",
   "execution_count": 20,
   "metadata": {},
   "outputs": [
    {
     "data": {
      "text/plain": [
       "['cat', 'dog', 'parrot', 'bunny', 'hamster']"
      ]
     },
     "execution_count": 20,
     "metadata": {},
     "output_type": "execute_result"
    }
   ],
   "source": [
    "pets.remove(\"armadillo\")\n",
    "pets"
   ]
  },
  {
   "cell_type": "markdown",
   "metadata": {},
   "source": [
    "### Negative indexes\n",
    "\n",
    "If you use `-1` as the value inside of the brackets, something interesting happens:"
   ]
  },
  {
   "cell_type": "code",
   "execution_count": 21,
   "metadata": {},
   "outputs": [
    {
     "data": {
      "text/plain": [
       "'hamster'"
      ]
     },
     "execution_count": 21,
     "metadata": {},
     "output_type": "execute_result"
    }
   ],
   "source": [
    "pets[-1]"
   ]
  },
  {
   "cell_type": "markdown",
   "metadata": {},
   "source": [
    "The expression evaluates to the *last* item in the list. This is essentially the same thing as the following code:"
   ]
  },
  {
   "cell_type": "code",
   "execution_count": 22,
   "metadata": {},
   "outputs": [
    {
     "data": {
      "text/plain": [
       "'hamster'"
      ]
     },
     "execution_count": 22,
     "metadata": {},
     "output_type": "execute_result"
    }
   ],
   "source": [
    "pets[len(pets) - 1]"
   ]
  },
  {
   "cell_type": "markdown",
   "metadata": {},
   "source": [
    "... except easier to write. In fact, you can use any negative integer in the index brackets, and Python will count that many items from the end of the list, and evaluate the expression to that item."
   ]
  },
  {
   "cell_type": "code",
   "execution_count": 23,
   "metadata": {},
   "outputs": [
    {
     "data": {
      "text/plain": [
       "'parrot'"
      ]
     },
     "execution_count": 23,
     "metadata": {},
     "output_type": "execute_result"
    }
   ],
   "source": [
    "pets[-3]"
   ]
  },
  {
   "cell_type": "markdown",
   "metadata": {},
   "source": [
    "If the value in the brackets would \"go past\" the beginning of the list, Python will raise an error:"
   ]
  },
  {
   "cell_type": "code",
   "execution_count": 24,
   "metadata": {},
   "outputs": [
    {
     "ename": "IndexError",
     "evalue": "list index out of range",
     "output_type": "error",
     "traceback": [
      "\u001b[0;31m---------------------------------------------------------------------------\u001b[0m",
      "\u001b[0;31mIndexError\u001b[0m                                Traceback (most recent call last)",
      "Cell \u001b[0;32mIn[24], line 1\u001b[0m\n\u001b[0;32m----> 1\u001b[0m \u001b[43mpets\u001b[49m\u001b[43m[\u001b[49m\u001b[38;5;241;43m-\u001b[39;49m\u001b[38;5;241;43m14\u001b[39;49m\u001b[43m]\u001b[49m\n",
      "\u001b[0;31mIndexError\u001b[0m: list index out of range"
     ]
    }
   ],
   "source": [
    "pets[-14]"
   ]
  },
  {
   "cell_type": "markdown",
   "metadata": {},
   "source": [
    "## List slices\n",
    "\n",
    "The index bracket syntax explained above allows you to write an expression that evaluates to a particular item in a list, based on its position in the list. Python also has a powerful way for you to write expressions that return a *section* of a list, starting from a particular index and ending with another index. In Python parlance we'll call this section a *slice*.\n",
    "\n",
    "Writing an expression to get a slice of a list looks a lot like writing an expression to get a single value. The difference is that instead of putting one number between square brackets, we put *two* numbers, separated by a colon. The first number tells Python where to begin the slice, and the second number tells Python where to end it."
   ]
  },
  {
   "cell_type": "code",
   "execution_count": 25,
   "metadata": {},
   "outputs": [
    {
     "data": {
      "text/plain": [
       "['dog', 'parrot', 'bunny']"
      ]
     },
     "execution_count": 25,
     "metadata": {},
     "output_type": "execute_result"
    }
   ],
   "source": [
    "[\"cat\", \"dog\", \"parrot\", \"bunny\", \"hamster\"][1:4]"
   ]
  },
  {
   "cell_type": "markdown",
   "metadata": {},
   "source": [
    "Note that the value after the colon specifies at which index the slice should end, but the slice does *not* include the value at that index. (You can tell how long the slice will be by subtracting the value before the colon from the value after it.)"
   ]
  },
  {
   "cell_type": "markdown",
   "metadata": {},
   "source": [
    "### Omitting slice values\n",
    "\n",
    "Because it's so common to use the slice syntax to get a list that is either a slice starting at the beginning of the list or a slice ending at the end of the list, Python has a special shortcut. Instead of writing:"
   ]
  },
  {
   "cell_type": "code",
   "execution_count": 26,
   "metadata": {},
   "outputs": [
    {
     "data": {
      "text/plain": [
       "['cat', 'dog', 'parrot']"
      ]
     },
     "execution_count": 26,
     "metadata": {},
     "output_type": "execute_result"
    }
   ],
   "source": [
    "pets[0:3]"
   ]
  },
  {
   "cell_type": "markdown",
   "metadata": {},
   "source": [
    "You can leave out the `0` and write this instead:"
   ]
  },
  {
   "cell_type": "code",
   "execution_count": 27,
   "metadata": {},
   "outputs": [
    {
     "data": {
      "text/plain": [
       "['cat', 'dog', 'parrot']"
      ]
     },
     "execution_count": 27,
     "metadata": {},
     "output_type": "execute_result"
    }
   ],
   "source": [
    "pets[:3]"
   ]
  },
  {
   "cell_type": "markdown",
   "metadata": {},
   "source": [
    "Likewise, if you wanted a slice that starts at index 4 and goes to the end of the list, you might write:"
   ]
  },
  {
   "cell_type": "code",
   "execution_count": 28,
   "metadata": {},
   "outputs": [
    {
     "data": {
      "text/plain": [
       "['bunny', 'hamster']"
      ]
     },
     "execution_count": 28,
     "metadata": {},
     "output_type": "execute_result"
    }
   ],
   "source": [
    "pets[3:]"
   ]
  },
  {
   "cell_type": "markdown",
   "metadata": {},
   "source": [
    "Getting the last two animals in `pets`:"
   ]
  },
  {
   "cell_type": "code",
   "execution_count": 29,
   "metadata": {},
   "outputs": [
    {
     "data": {
      "text/plain": [
       "['cat', 'dog']"
      ]
     },
     "execution_count": 29,
     "metadata": {},
     "output_type": "execute_result"
    }
   ],
   "source": [
    "pets[:2]"
   ]
  },
  {
   "cell_type": "markdown",
   "metadata": {},
   "source": [
    "### Negative index values in slices\n",
    "\n",
    "Now for some tricky stuff: You can use negative index values in slice brackets as well! For example, to get a slice of a list from the fourth-to-last element of the list up to (but not including) the second-to-last element of the list:"
   ]
  },
  {
   "cell_type": "code",
   "execution_count": 30,
   "metadata": {},
   "outputs": [
    {
     "data": {
      "text/plain": [
       "['dog', 'parrot']"
      ]
     },
     "execution_count": 30,
     "metadata": {},
     "output_type": "execute_result"
    }
   ],
   "source": [
    "pets[-4:-2]"
   ]
  },
  {
   "cell_type": "markdown",
   "metadata": {},
   "source": [
    "To get the last three elements of the list:"
   ]
  },
  {
   "cell_type": "code",
   "execution_count": 31,
   "metadata": {},
   "outputs": [
    {
     "data": {
      "text/plain": [
       "[5, 10]"
      ]
     },
     "execution_count": 31,
     "metadata": {},
     "output_type": "execute_result"
    }
   ],
   "source": [
    "my_numbers[:-3]"
   ]
  },
  {
   "cell_type": "markdown",
   "metadata": {},
   "source": [
    "All items from `my_numbers` from the third item from the end of the list upto the end of the list:"
   ]
  },
  {
   "cell_type": "code",
   "execution_count": 32,
   "metadata": {},
   "outputs": [
    {
     "data": {
      "text/plain": [
       "[15, 20, 6]"
      ]
     },
     "execution_count": 32,
     "metadata": {},
     "output_type": "execute_result"
    }
   ],
   "source": [
    "my_numbers[-3:]"
   ]
  },
  {
   "cell_type": "markdown",
   "metadata": {},
   "source": [
    "### More on strings and lists\n",
    "\n",
    "We saw that strings can be elements of a list. But strings themselves act as lists, too!The same square bracket slice and index syntax works on strings the same way it works on lists:"
   ]
  },
  {
   "cell_type": "code",
   "execution_count": 33,
   "metadata": {},
   "outputs": [],
   "source": [
    "message = \"importantly\""
   ]
  },
  {
   "cell_type": "code",
   "execution_count": 34,
   "metadata": {},
   "outputs": [
    {
     "data": {
      "text/plain": [
       "'m'"
      ]
     },
     "execution_count": 34,
     "metadata": {},
     "output_type": "execute_result"
    }
   ],
   "source": [
    "message[1]"
   ]
  },
  {
   "cell_type": "code",
   "execution_count": 35,
   "metadata": {},
   "outputs": [
    {
     "data": {
      "text/plain": [
       "'l'"
      ]
     },
     "execution_count": 35,
     "metadata": {},
     "output_type": "execute_result"
    }
   ],
   "source": [
    "message[-2]"
   ]
  },
  {
   "cell_type": "code",
   "execution_count": 36,
   "metadata": {},
   "outputs": [
    {
     "data": {
      "text/plain": [
       "'ant'"
      ]
     },
     "execution_count": 36,
     "metadata": {},
     "output_type": "execute_result"
    }
   ],
   "source": [
    "message[-5:-2]"
   ]
  },
  {
   "cell_type": "markdown",
   "metadata": {},
   "source": [
    "You can turn a string into a list of its component characters by passing it to `list()`:"
   ]
  },
  {
   "cell_type": "code",
   "execution_count": 37,
   "metadata": {
    "scrolled": true
   },
   "outputs": [
    {
     "data": {
      "text/plain": [
       "['i', 'm', 'p', 'o', 'r', 't', 'a', 'n', 't', 'l', 'y']"
      ]
     },
     "execution_count": 37,
     "metadata": {},
     "output_type": "execute_result"
    }
   ],
   "source": [
    "list(message)"
   ]
  },
  {
   "cell_type": "markdown",
   "metadata": {},
   "source": [
    "The letters in a string in alphabetical order use `sorted`:"
   ]
  },
  {
   "cell_type": "code",
   "execution_count": 38,
   "metadata": {},
   "outputs": [
    {
     "data": {
      "text/plain": [
       "['a', 'i', 'l', 'm', 'n', 'o', 'p', 'r', 't', 't', 'y']"
      ]
     },
     "execution_count": 38,
     "metadata": {},
     "output_type": "execute_result"
    }
   ],
   "source": [
    "sorted(list(message))"
   ]
  },
  {
   "cell_type": "markdown",
   "metadata": {},
   "source": [
    "## Splitting strings into lists\n",
    "The split() method is a funny thing you can do with a string to transform it into a list. If you have an expression that evaluates to a string, you can put .split() right after it, and Python will evaluate the whole expression to mean \"take this string, and 'split' it on white space, giving me a list of strings with the remaining parts.\" For example:"
   ]
  },
  {
   "cell_type": "code",
   "execution_count": 39,
   "metadata": {},
   "outputs": [
    {
     "data": {
      "text/plain": [
       "['this', 'is', 'a', 'test']"
      ]
     },
     "execution_count": 39,
     "metadata": {},
     "output_type": "execute_result"
    }
   ],
   "source": [
    "\"this is a test\".split()"
   ]
  },
  {
   "cell_type": "markdown",
   "metadata": {},
   "source": [
    "This can be incredibly useful as we will see further below!"
   ]
  },
  {
   "cell_type": "markdown",
   "metadata": {},
   "source": [
    "## Join: Making strings from lists\n",
    "\n",
    "This is something I covered in the last tutorial, but it is worth repeating. Once we've created a list of words, it's a common task to want to take that list and \"glue\" it back together, so it's a single string again, instead of a list. So, for example:"
   ]
  },
  {
   "cell_type": "code",
   "execution_count": 40,
   "metadata": {},
   "outputs": [
    {
     "data": {
      "text/plain": [
       "'hydrogen, and helium, and lithium, and beryllium, and boron'"
      ]
     },
     "execution_count": 40,
     "metadata": {},
     "output_type": "execute_result"
    }
   ],
   "source": [
    "element_list = [\"hydrogen\", \"helium\", \"lithium\", \"beryllium\", \"boron\"]\n",
    "glue = \", and \"\n",
    "glue.join(element_list)"
   ]
  },
  {
   "cell_type": "markdown",
   "metadata": {},
   "source": [
    "The `.join()` method needs a \"glue\" string to the left of it---this is the\n",
    "string that will be placed in between the list elements. In the parentheses\n",
    "to the right, you need to put an expression that evaluates to a list. Very\n",
    "frequently with `.join()`, programmers don't bother to assign the \"glue\"\n",
    "string to a variable first, so you end up with code that looks like this:"
   ]
  },
  {
   "cell_type": "code",
   "execution_count": 41,
   "metadata": {
    "scrolled": true
   },
   "outputs": [
    {
     "data": {
      "text/plain": [
       "'this is a test'"
      ]
     },
     "execution_count": 41,
     "metadata": {},
     "output_type": "execute_result"
    }
   ],
   "source": [
    "words = [\"this\", \"is\", \"a\", \"test\"]\n",
    "\" \".join(words)"
   ]
  },
  {
   "cell_type": "markdown",
   "metadata": {},
   "source": [
    "When we're working with `.split()` and `.join()`, our workflow usually looks\n",
    "something like this:\n",
    "\n",
    "1. Split a string to get a list of units (usually words).\n",
    "2. Use some of the list operations discussed above to modify or slice the list.\n",
    "3. Join that list back together into a string.\n",
    "4. Do something with that string (e.g., print it out).\n",
    "\n",
    "With this in mind, here's a program that splits a string into words, randomizes the order of the words, then prints out the results:"
   ]
  },
  {
   "cell_type": "code",
   "execution_count": 42,
   "metadata": {},
   "outputs": [
    {
     "data": {
      "text/plain": [
       "'stormy dark a it night was and'"
      ]
     },
     "execution_count": 42,
     "metadata": {},
     "output_type": "execute_result"
    }
   ],
   "source": [
    "import random\n",
    "\n",
    "text = \"it was a dark and stormy night\"\n",
    "words = text.split()\n",
    "random.shuffle(words)\n",
    "' '.join(words)"
   ]
  },
  {
   "cell_type": "markdown",
   "metadata": {},
   "source": [
    "## Text files and lists of lines\n",
    "\n",
    "The `open()` function allows you to read text from a file. The file has to be plaintext, that is in the .txt format. This is a shortened way to read :"
   ]
  },
  {
   "cell_type": "code",
   "execution_count": 43,
   "metadata": {},
   "outputs": [
    {
     "name": "stdout",
     "output_type": "stream",
     "text": [
      "['Take a newspaper.\\n', 'Take some scissors.\\n', 'Choose from this paper an article of the length you want to make your poem.\\n', 'Cut out the article.\\n', 'Next carefully cut out each of the words that makes up this article and put them all in a bag.\\n', 'Shake gently.\\n', 'Next take out each cutting one after the other.\\n', 'Copy conscientiously in the order in which they left the bag.\\n', 'The poem will resemble you.\\n', 'And there you are – an infinitely original author of charming sensibility, even though unappreciated by the vulgar herd.\\n']\n"
     ]
    }
   ],
   "source": [
    "with open('tzara.txt', 'r') as file:\n",
    "    lines = file.readlines()\n",
    "print(lines)"
   ]
  },
  {
   "cell_type": "markdown",
   "metadata": {},
   "source": [
    "What we have here is a *list of strings*. Each element in the list corresponds to a single line from the text file.\n",
    "\n",
    "Notice that you see the `\\n` character at the end of each string; this is Python letting you know that there's a character in the file that indicates where the linebreaks should occur. By default, Python doesn't strip this character out. To make our data a little bit cleaner, let's use the `.strip()` method in the predicate expression to get rid of the newline character (and any other accompanying whitespace characters):"
   ]
  },
  {
   "cell_type": "code",
   "execution_count": 44,
   "metadata": {},
   "outputs": [
    {
     "name": "stdout",
     "output_type": "stream",
     "text": [
      "['Take a newspaper.', 'Take some scissors.', 'Choose from this paper an article of the length you want to make your poem.', 'Cut out the article.', 'Next carefully cut out each of the words that makes up this article and put them all in a bag.', 'Shake gently.', 'Next take out each cutting one after the other.', 'Copy conscientiously in the order in which they left the bag.', 'The poem will resemble you.', 'And there you are – an infinitely original author of charming sensibility, even though unappreciated by the vulgar herd.']\n"
     ]
    }
   ],
   "source": [
    "with open('tzara.txt', 'r') as file:\n",
    "    lines = file.readlines()\n",
    "for i in range(len(lines)):\n",
    "    lines[i] = lines[i].strip()\n",
    "print(lines)"
   ]
  },
  {
   "cell_type": "markdown",
   "metadata": {},
   "source": [
    "Assigning this to a variable, we can do things like get the lines of the poem from index 3 up to index 9:"
   ]
  },
  {
   "cell_type": "code",
   "execution_count": 45,
   "metadata": {
    "scrolled": true
   },
   "outputs": [
    {
     "data": {
      "text/plain": [
       "['Cut out the article.',\n",
       " 'Next carefully cut out each of the words that makes up this article and put them all in a bag.',\n",
       " 'Shake gently.',\n",
       " 'Next take out each cutting one after the other.',\n",
       " 'Copy conscientiously in the order in which they left the bag.',\n",
       " 'The poem will resemble you.']"
      ]
     },
     "execution_count": 45,
     "metadata": {},
     "output_type": "execute_result"
    }
   ],
   "source": [
    "lines[3:9]"
   ]
  },
  {
   "cell_type": "markdown",
   "metadata": {},
   "source": [
    "Or we can get a few lines at random:"
   ]
  },
  {
   "cell_type": "code",
   "execution_count": 46,
   "metadata": {},
   "outputs": [
    {
     "data": {
      "text/plain": [
       "['Take some scissors.',\n",
       " 'And there you are – an infinitely original author of charming sensibility, even though unappreciated by the vulgar herd.',\n",
       " 'Take a newspaper.']"
      ]
     },
     "execution_count": 46,
     "metadata": {},
     "output_type": "execute_result"
    }
   ],
   "source": [
    "random.sample(lines, 3)"
   ]
  },
  {
   "cell_type": "markdown",
   "metadata": {},
   "source": [
    "Or sort the poem in alphabetical order:"
   ]
  },
  {
   "cell_type": "code",
   "execution_count": 47,
   "metadata": {},
   "outputs": [
    {
     "data": {
      "text/plain": [
       "['And there you are – an infinitely original author of charming sensibility, even though unappreciated by the vulgar herd.',\n",
       " 'Choose from this paper an article of the length you want to make your poem.',\n",
       " 'Copy conscientiously in the order in which they left the bag.',\n",
       " 'Cut out the article.',\n",
       " 'Next carefully cut out each of the words that makes up this article and put them all in a bag.',\n",
       " 'Next take out each cutting one after the other.',\n",
       " 'Shake gently.',\n",
       " 'Take a newspaper.',\n",
       " 'Take some scissors.',\n",
       " 'The poem will resemble you.']"
      ]
     },
     "execution_count": 47,
     "metadata": {},
     "output_type": "execute_result"
    }
   ],
   "source": [
    "sorted(lines)"
   ]
  },
  {
   "cell_type": "markdown",
   "metadata": {},
   "source": [
    "The `line` list can itself be used as the source for other operations:"
   ]
  },
  {
   "cell_type": "code",
   "execution_count": 48,
   "metadata": {},
   "outputs": [
    {
     "name": "stdout",
     "output_type": "stream",
     "text": [
      "Take a new\n",
      "Take some \n",
      "Choose fro\n",
      "Cut out th\n",
      "Next caref\n",
      "Shake gent\n",
      "Next take \n",
      "Copy consc\n",
      "The poem w\n",
      "And there \n"
     ]
    }
   ],
   "source": [
    "for i in lines:\n",
    "    print(i[0:10])"
   ]
  },
  {
   "cell_type": "markdown",
   "metadata": {},
   "source": [
    "### Transforming lines of text\n",
    "\n",
    "Let's see what other transformations of lines are possible. "
   ]
  },
  {
   "cell_type": "markdown",
   "metadata": {},
   "source": [
    "The simples transformation is to not do anything with the data in the line at all, and have Python put another string altogether into the new list:"
   ]
  },
  {
   "cell_type": "code",
   "execution_count": 49,
   "metadata": {},
   "outputs": [
    {
     "name": "stdout",
     "output_type": "stream",
     "text": [
      "I am Tristan Tzara, howdy howdy howdy\n",
      "I am Tristan Tzara, howdy howdy howdy\n",
      "I am Tristan Tzara, howdy howdy howdy\n",
      "I am Tristan Tzara, howdy howdy howdy\n",
      "I am Tristan Tzara, howdy howdy howdy\n",
      "I am Tristan Tzara, howdy howdy howdy\n",
      "I am Tristan Tzara, howdy howdy howdy\n",
      "I am Tristan Tzara, howdy howdy howdy\n",
      "I am Tristan Tzara, howdy howdy howdy\n",
      "I am Tristan Tzara, howdy howdy howdy\n"
     ]
    }
   ],
   "source": [
    "for line in lines: \n",
    "    print(\"I am Tristan Tzara, howdy howdy howdy\")"
   ]
  },
  {
   "cell_type": "markdown",
   "metadata": {},
   "source": [
    "Neither of these are interesting from anything other than a theoretical perspective, which means if you're a humanities scholar or something you can just stop here and start typing up your monograph on conceptions of identity and iteration in algorithmic media. But as for me and my students, we are ARTISTS and ENGINEERS and it's important that we CHANGE THE WORLD and SHOW RESULTS."
   ]
  },
  {
   "cell_type": "markdown",
   "metadata": {},
   "source": [
    "### String methods in the predicate expression\n",
    "\n",
    "Recall from the tutorial on strings that string expressions in Python have a number of methods that can be called on them that return a copy of the string with some transformation applied, like `.lower()` (converts the string to lower case) or `.replace()` (replaces matching substrings with some other string). We can use these *in the predicate expression* to effect that transformation on every item in the list. To make every string in the upper case, for example, call the .upper() method on the temporary variable line. This makes Frost look really mad:"
   ]
  },
  {
   "cell_type": "code",
   "execution_count": 50,
   "metadata": {},
   "outputs": [
    {
     "name": "stdout",
     "output_type": "stream",
     "text": [
      "TAKE A NEWSPAPER.\n",
      "TAKE SOME SCISSORS.\n",
      "CHOOSE FROM THIS PAPER AN ARTICLE OF THE LENGTH YOU WANT TO MAKE YOUR POEM.\n",
      "CUT OUT THE ARTICLE.\n",
      "NEXT CAREFULLY CUT OUT EACH OF THE WORDS THAT MAKES UP THIS ARTICLE AND PUT THEM ALL IN A BAG.\n",
      "SHAKE GENTLY.\n",
      "NEXT TAKE OUT EACH CUTTING ONE AFTER THE OTHER.\n",
      "COPY CONSCIENTIOUSLY IN THE ORDER IN WHICH THEY LEFT THE BAG.\n",
      "THE POEM WILL RESEMBLE YOU.\n",
      "AND THERE YOU ARE – AN INFINITELY ORIGINAL AUTHOR OF CHARMING SENSIBILITY, EVEN THOUGH UNAPPRECIATED BY THE VULGAR HERD.\n"
     ]
    }
   ],
   "source": [
    "for line in lines: \n",
    "    print(line.upper())"
   ]
  },
  {
   "cell_type": "markdown",
   "metadata": {},
   "source": [
    "And `.replace()` is a fun one. You need to put two comma-separated strings between the parentheses. Python will replace every occurrence of the first string with the second string. To make our poem more colloquial, for example:"
   ]
  },
  {
   "cell_type": "code",
   "execution_count": 51,
   "metadata": {},
   "outputs": [
    {
     "name": "stdout",
     "output_type": "stream",
     "text": [
      "TaheHHEEhaHAhake aheHHEEhaHAha newspaheHHEEhaHAhaper.\n",
      "TaheHHEEhaHAhake some scissors.\n",
      "Choose from this paheHHEEhaHAhaper aheHHEEhaHAhan aheHHEEhaHAharticle of the length you waheHHEEhaHAhant to maheHHEEhaHAhake your poem.\n",
      "Cut out the aheHHEEhaHAharticle.\n",
      "Next caheHHEEhaHAharefully cut out eaheHHEEhaHAhach of the words thaheHHEEhaHAhat maheHHEEhaHAhakes up this aheHHEEhaHAharticle aheHHEEhaHAhand put them aheHHEEhaHAhall in aheHHEEhaHAha baheHHEEhaHAhag.\n",
      "ShaheHHEEhaHAhake gently.\n",
      "Next taheHHEEhaHAhake out eaheHHEEhaHAhach cutting one aheHHEEhaHAhafter the other.\n",
      "Copy conscientiously in the order in which they left the baheHHEEhaHAhag.\n",
      "The poem will resemble you.\n",
      "And there you aheHHEEhaHAhare – aheHHEEhaHAhan infinitely originaheHHEEhaHAhal aheHHEEhaHAhauthor of chaheHHEEhaHAharming sensibility, even though unaheHHEEhaHAhappreciaheHHEEhaHAhated by the vulgaheHHEEhaHAhar herd.\n"
     ]
    }
   ],
   "source": [
    "for line in lines:\n",
    "    print(line.replace(\"a\", \"aheHHEEhaHAha\"))"
   ]
  },
  {
   "cell_type": "markdown",
   "metadata": {},
   "source": [
    "If you have ever wondered, \"What would this roady poem sound like if you tickled Robert Frost while he read it aloud,\" then you're in luck because Python has answered that question."
   ]
  },
  {
   "cell_type": "markdown",
   "metadata": {},
   "source": [
    "The `.strip()` method is helpful! We used it above to strip off whitespace, but if you give it a string as a parameter (inside the parentheses), it will remove all of the characters inside that string from the beginning and end of every line. This is a convenient way to, e.g., remove punctuation from the ends of lines:"
   ]
  },
  {
   "cell_type": "code",
   "execution_count": 52,
   "metadata": {},
   "outputs": [
    {
     "name": "stdout",
     "output_type": "stream",
     "text": [
      "Take a newspaper\n",
      "Take some scissors\n",
      "Choose from this paper an article of the length you want to make your poem\n",
      "Cut out the article\n",
      "Next carefully cut out each of the words that makes up this article and put them all in a bag\n",
      "Shake gently\n",
      "Next take out each cutting one after the other\n",
      "Copy conscientiously in the order in which they left the bag\n",
      "The poem will resemble you\n",
      "And there you are – an infinitely original author of charming sensibility, even though unappreciated by the vulgar herd\n"
     ]
    }
   ],
   "source": [
    "for line in lines: \n",
    "    print(line.strip(\",;.!:\"))"
   ]
  },
  {
   "cell_type": "markdown",
   "metadata": {},
   "source": [
    "You can use the `+` operator to build up strings from each line as well:"
   ]
  },
  {
   "cell_type": "code",
   "execution_count": 53,
   "metadata": {},
   "outputs": [
    {
     "name": "stdout",
     "output_type": "stream",
     "text": [
      "☛ Take a newspaper. ☚\n",
      "☛ Take some scissors. ☚\n",
      "☛ Choose from this paper an article of the length you want to make your poem. ☚\n",
      "☛ Cut out the article. ☚\n",
      "☛ Next carefully cut out each of the words that makes up this article and put them all in a bag. ☚\n",
      "☛ Shake gently. ☚\n",
      "☛ Next take out each cutting one after the other. ☚\n",
      "☛ Copy conscientiously in the order in which they left the bag. ☚\n",
      "☛ The poem will resemble you. ☚\n",
      "☛ And there you are – an infinitely original author of charming sensibility, even though unappreciated by the vulgar herd. ☚\n"
     ]
    }
   ],
   "source": [
    "for line in lines: \n",
    "    print(\"☛ \" + line + \" ☚\")"
   ]
  },
  {
   "cell_type": "markdown",
   "metadata": {},
   "source": [
    "Using string slices, we can create some cut-up poetry from parts of each line. Here we smoosh the first six characters of each line up against the last six characters:"
   ]
  },
  {
   "cell_type": "code",
   "execution_count": 54,
   "metadata": {},
   "outputs": [
    {
     "name": "stdout",
     "output_type": "stream",
     "text": [
      "Take apaper.\n",
      "Take sssors.\n",
      "Choose poem.\n",
      "Cut outicle.\n",
      "Next ca bag.\n",
      "Shake ently.\n",
      "Next tother.\n",
      "Copy ce bag.\n",
      "The poe you.\n",
      "And th herd.\n"
     ]
    }
   ],
   "source": [
    "for line in lines: \n",
    "    print(line[:6] + line[-6:])"
   ]
  },
  {
   "cell_type": "markdown",
   "metadata": {},
   "source": [
    "You can use more than one of these transformations on the predicate expression. There are two ways: First, you can perform the transformation by assigning the result of one operation to a new list, and then using that result in a second operations. For example, to turn this poem into a telegram, we'll first convert it to upper case and save the result in a new list. Note that you have to declare empty lists by using empty square brackets:"
   ]
  },
  {
   "cell_type": "code",
   "execution_count": 55,
   "metadata": {},
   "outputs": [
    {
     "name": "stdout",
     "output_type": "stream",
     "text": [
      "['TAKE A NEWSPAPER.', 'TAKE SOME SCISSORS.', 'CHOOSE FROM THIS PAPER AN ARTICLE OF THE LENGTH YOU WANT TO MAKE YOUR POEM.', 'CUT OUT THE ARTICLE.', 'NEXT CAREFULLY CUT OUT EACH OF THE WORDS THAT MAKES UP THIS ARTICLE AND PUT THEM ALL IN A BAG.', 'SHAKE GENTLY.', 'NEXT TAKE OUT EACH CUTTING ONE AFTER THE OTHER.', 'COPY CONSCIENTIOUSLY IN THE ORDER IN WHICH THEY LEFT THE BAG.', 'THE POEM WILL RESEMBLE YOU.', 'AND THERE YOU ARE – AN INFINITELY ORIGINAL AUTHOR OF CHARMING SENSIBILITY, EVEN THOUGH UNAPPRECIATED BY THE VULGAR HERD.']\n"
     ]
    }
   ],
   "source": [
    "tzara_upper = []\n",
    "for line in lines: \n",
    "    tzara_upper.append(line.upper())\n",
    "print(tzara_upper)"
   ]
  },
  {
   "cell_type": "markdown",
   "metadata": {},
   "source": [
    "And then we'll get rid of punctuation at the end of the line:"
   ]
  },
  {
   "cell_type": "code",
   "execution_count": 56,
   "metadata": {},
   "outputs": [
    {
     "name": "stdout",
     "output_type": "stream",
     "text": [
      "['TAKE A NEWSPAPER', 'TAKE SOME SCISSORS', 'CHOOSE FROM THIS PAPER AN ARTICLE OF THE LENGTH YOU WANT TO MAKE YOUR POEM', 'CUT OUT THE ARTICLE', 'NEXT CAREFULLY CUT OUT EACH OF THE WORDS THAT MAKES UP THIS ARTICLE AND PUT THEM ALL IN A BAG', 'SHAKE GENTLY', 'NEXT TAKE OUT EACH CUTTING ONE AFTER THE OTHER', 'COPY CONSCIENTIOUSLY IN THE ORDER IN WHICH THEY LEFT THE BAG', 'THE POEM WILL RESEMBLE YOU', 'AND THERE YOU ARE – AN INFINITELY ORIGINAL AUTHOR OF CHARMING SENSIBILITY, EVEN THOUGH UNAPPRECIATED BY THE VULGAR HERD']\n"
     ]
    }
   ],
   "source": [
    "tzara_upper_nopunct = []\n",
    "for line in tzara_upper:\n",
    "    tzara_upper_nopunct.append(line.strip(\",;.!:—\"))\n",
    "print(tzara_upper_nopunct)"
   ]
  },
  {
   "cell_type": "markdown",
   "metadata": {},
   "source": [
    "And then append the string STOP to the end of each line:"
   ]
  },
  {
   "cell_type": "code",
   "execution_count": 57,
   "metadata": {},
   "outputs": [
    {
     "name": "stdout",
     "output_type": "stream",
     "text": [
      "TAKE A NEWSPAPER STOP\n",
      "TAKE SOME SCISSORS STOP\n",
      "CHOOSE FROM THIS PAPER AN ARTICLE OF THE LENGTH YOU WANT TO MAKE YOUR POEM STOP\n",
      "CUT OUT THE ARTICLE STOP\n",
      "NEXT CAREFULLY CUT OUT EACH OF THE WORDS THAT MAKES UP THIS ARTICLE AND PUT THEM ALL IN A BAG STOP\n",
      "SHAKE GENTLY STOP\n",
      "NEXT TAKE OUT EACH CUTTING ONE AFTER THE OTHER STOP\n",
      "COPY CONSCIENTIOUSLY IN THE ORDER IN WHICH THEY LEFT THE BAG STOP\n",
      "THE POEM WILL RESEMBLE YOU STOP\n",
      "AND THERE YOU ARE – AN INFINITELY ORIGINAL AUTHOR OF CHARMING SENSIBILITY, EVEN THOUGH UNAPPRECIATED BY THE VULGAR HERD STOP\n"
     ]
    }
   ],
   "source": [
    "for line in tzara_upper_nopunct: \n",
    "    print(line + \" STOP\")"
   ]
  },
  {
   "cell_type": "markdown",
   "metadata": {},
   "source": [
    "There is actually more condensed way to write this in one expression called a list comprehension. We won't cover it here, but you can try to grasp what it does. More on list comprehensions [here](https://www.geeksforgeeks.org/python-list-comprehension/). "
   ]
  },
  {
   "cell_type": "code",
   "execution_count": 59,
   "metadata": {},
   "outputs": [
    {
     "data": {
      "text/plain": [
       "['TAKE A NEWSPAPER STOP',\n",
       " 'TAKE SOME SCISSORS STOP',\n",
       " 'CHOOSE FROM THIS PAPER AN ARTICLE OF THE LENGTH YOU WANT TO MAKE YOUR POEM STOP',\n",
       " 'CUT OUT THE ARTICLE STOP',\n",
       " 'NEXT CAREFULLY CUT OUT EACH OF THE WORDS THAT MAKES UP THIS ARTICLE AND PUT THEM ALL IN A BAG STOP',\n",
       " 'SHAKE GENTLY STOP',\n",
       " 'NEXT TAKE OUT EACH CUTTING ONE AFTER THE OTHER STOP',\n",
       " 'COPY CONSCIENTIOUSLY IN THE ORDER IN WHICH THEY LEFT THE BAG STOP',\n",
       " 'THE POEM WILL RESEMBLE YOU STOP',\n",
       " 'AND THERE YOU ARE – AN INFINITELY ORIGINAL AUTHOR OF CHARMING SENSIBILITY, EVEN THOUGH UNAPPRECIATED BY THE VULGAR HERD STOP']"
      ]
     },
     "execution_count": 59,
     "metadata": {},
     "output_type": "execute_result"
    }
   ],
   "source": [
    "[line.upper().strip(\",;.!:—\") + \" STOP\" for line in lines]"
   ]
  },
  {
   "cell_type": "markdown",
   "metadata": {},
   "source": [
    "List comprehensions are especially useful for multiple replacements. Here's the Swedish Chef version:"
   ]
  },
  {
   "cell_type": "code",
   "execution_count": 60,
   "metadata": {},
   "outputs": [
    {
     "data": {
      "text/plain": [
       "['Tökur ö nurwspöpurr.',\n",
       " 'Tökur sömur scössörs.',\n",
       " 'Chöösur fröm thös pöpurr ön örtöclur öf thur lurngth yöu wönt tö mökur yöur pöurm.',\n",
       " 'Cut öut thur örtöclur.',\n",
       " 'Nurxt cörurfully cut öut uröch öf thur wörds thöt mökurs up thös örtöclur önd put thurm öll ön ö bög.',\n",
       " 'Shökur gurntly.',\n",
       " 'Nurxt tökur öut uröch cuttöng önur öfturr thur öthurr.',\n",
       " 'Cöpy cönscöurntööusly ön thur ördurr ön whöch thury lurft thur bög.',\n",
       " 'Thur pöurm wöll rursurmblur yöu.',\n",
       " 'And thurrur yöu örur – ön önfönöturly örögönöl öuthör öf chörmöng surnsöbölöty, urvurn thöugh unöpprurcööturd by thur vulgör hurrd.']"
      ]
     },
     "execution_count": 60,
     "metadata": {},
     "output_type": "execute_result"
    }
   ],
   "source": [
    "[line.replace(\"i\", \"ö\").replace(\"o\", \"ö\").replace(\"a\", \"ö\").replace(\"e\", \"ur\") for line in lines]"
   ]
  },
  {
   "cell_type": "markdown",
   "metadata": {},
   "source": [
    "### Random operations on lists from files\n",
    "\n",
    "We can combine what we know about opening files and reading the lines with the `random` library. With `random.sample()` you can determine how many elements from the list should be given at random."
   ]
  },
  {
   "cell_type": "code",
   "execution_count": 61,
   "metadata": {},
   "outputs": [
    {
     "data": {
      "text/plain": [
       "['Next take out each cutting one after the other.',\n",
       " 'Copy conscientiously in the order in which they left the bag.',\n",
       " 'Take some scissors.']"
      ]
     },
     "execution_count": 61,
     "metadata": {},
     "output_type": "execute_result"
    }
   ],
   "source": [
    "import random\n",
    "\n",
    "random.sample(lines,3)"
   ]
  },
  {
   "cell_type": "markdown",
   "metadata": {},
   "source": [
    "You can also read not just the lines, but all words of a file into a list: "
   ]
  },
  {
   "cell_type": "code",
   "execution_count": 62,
   "metadata": {},
   "outputs": [
    {
     "name": "stdout",
     "output_type": "stream",
     "text": [
      "['Take', 'a', 'newspaper.', 'Take', 'some', 'scissors.', 'Choose', 'from', 'this', 'paper', 'an', 'article', 'of', 'the', 'length', 'you', 'want', 'to', 'make', 'your', 'poem.', 'Cut', 'out', 'the', 'article.', 'Next', 'carefully', 'cut', 'out', 'each', 'of', 'the', 'words', 'that', 'makes', 'up', 'this', 'article', 'and', 'put', 'them', 'all', 'in', 'a', 'bag.', 'Shake', 'gently.', 'Next', 'take', 'out', 'each', 'cutting', 'one', 'after', 'the', 'other.', 'Copy', 'conscientiously', 'in', 'the', 'order', 'in', 'which', 'they', 'left', 'the', 'bag.', 'The', 'poem', 'will', 'resemble', 'you.', 'And', 'there', 'you', 'are', '–', 'an', 'infinitely', 'original', 'author', 'of', 'charming', 'sensibility,', 'even', 'though', 'unappreciated', 'by', 'the', 'vulgar', 'herd.']\n"
     ]
    }
   ],
   "source": [
    "with open('tzara.txt', 'r') as file:\n",
    "    text = file.read()\n",
    "words = text.split()\n",
    "print(words)"
   ]
  },
  {
   "cell_type": "markdown",
   "metadata": {},
   "source": [
    "We can then do operations on all words, not just the list. For instance, we can sort it alphabetically, just like Tauba Auerbach did for [\"Alphabetized Bible\"](https://p-dpa.net/alphabetizing-the-bible-a-chronology) (guess the conceit):"
   ]
  },
  {
   "cell_type": "code",
   "execution_count": 64,
   "metadata": {},
   "outputs": [
    {
     "data": {
      "text/plain": [
       "['And',\n",
       " 'Choose',\n",
       " 'Copy',\n",
       " 'Cut',\n",
       " 'Next',\n",
       " 'Next',\n",
       " 'Shake',\n",
       " 'Take',\n",
       " 'Take',\n",
       " 'The',\n",
       " 'a',\n",
       " 'a',\n",
       " 'after',\n",
       " 'all',\n",
       " 'an',\n",
       " 'an',\n",
       " 'and',\n",
       " 'are',\n",
       " 'article',\n",
       " 'article',\n",
       " 'article.',\n",
       " 'author',\n",
       " 'bag.',\n",
       " 'bag.',\n",
       " 'by',\n",
       " 'carefully',\n",
       " 'charming',\n",
       " 'conscientiously',\n",
       " 'cut',\n",
       " 'cutting',\n",
       " 'each',\n",
       " 'each',\n",
       " 'even',\n",
       " 'from',\n",
       " 'gently.',\n",
       " 'herd.',\n",
       " 'in',\n",
       " 'in',\n",
       " 'in',\n",
       " 'infinitely',\n",
       " 'left',\n",
       " 'length',\n",
       " 'make',\n",
       " 'makes',\n",
       " 'newspaper.',\n",
       " 'of',\n",
       " 'of',\n",
       " 'of',\n",
       " 'one',\n",
       " 'order',\n",
       " 'original',\n",
       " 'other.',\n",
       " 'out',\n",
       " 'out',\n",
       " 'out',\n",
       " 'paper',\n",
       " 'poem',\n",
       " 'poem.',\n",
       " 'put',\n",
       " 'resemble',\n",
       " 'scissors.',\n",
       " 'sensibility,',\n",
       " 'some',\n",
       " 'take',\n",
       " 'that',\n",
       " 'the',\n",
       " 'the',\n",
       " 'the',\n",
       " 'the',\n",
       " 'the',\n",
       " 'the',\n",
       " 'the',\n",
       " 'them',\n",
       " 'there',\n",
       " 'they',\n",
       " 'this',\n",
       " 'this',\n",
       " 'though',\n",
       " 'to',\n",
       " 'unappreciated',\n",
       " 'up',\n",
       " 'vulgar',\n",
       " 'want',\n",
       " 'which',\n",
       " 'will',\n",
       " 'words',\n",
       " 'you',\n",
       " 'you',\n",
       " 'you.',\n",
       " 'your',\n",
       " '–']"
      ]
     },
     "execution_count": 64,
     "metadata": {},
     "output_type": "execute_result"
    }
   ],
   "source": [
    " sorted(words)"
   ]
  },
  {
   "cell_type": "markdown",
   "metadata": {},
   "source": [
    "We can get all of the words that meet particular criteria, like the words that have more than seven characters (and strip them of punctuation marks):"
   ]
  },
  {
   "cell_type": "code",
   "execution_count": 69,
   "metadata": {},
   "outputs": [
    {
     "name": "stdout",
     "output_type": "stream",
     "text": [
      "newspaper\n",
      "scissors\n",
      "article\n",
      "carefully\n",
      "conscientiously\n",
      "resemble\n",
      "infinitely\n",
      "original\n",
      "charming\n",
      "sensibility\n",
      "unappreciated\n"
     ]
    }
   ],
   "source": [
    "for item in words: \n",
    "    if len(item) > 7:\n",
    "        print(item.strip(\".,!-\"))"
   ]
  },
  {
   "cell_type": "markdown",
   "metadata": {},
   "source": [
    "Or all of the words that start with the letter `a` (note the `.lower()` method that also finds \"A\"):"
   ]
  },
  {
   "cell_type": "code",
   "execution_count": 71,
   "metadata": {
    "scrolled": true
   },
   "outputs": [
    {
     "name": "stdout",
     "output_type": "stream",
     "text": [
      "a\n",
      "an\n",
      "article\n",
      "article.\n",
      "article\n",
      "and\n",
      "all\n",
      "a\n",
      "after\n",
      "And\n",
      "are\n",
      "an\n",
      "author\n"
     ]
    }
   ],
   "source": [
    "for item in words: \n",
    "    if item.lower().startswith(\"a\"):\n",
    "        print(item)"
   ]
  },
  {
   "cell_type": "markdown",
   "metadata": {},
   "source": [
    "With of these list operations, we bring them into a nice shape with `.join()`again:"
   ]
  },
  {
   "cell_type": "code",
   "execution_count": 107,
   "metadata": {
    "scrolled": true
   },
   "outputs": [
    {
     "name": "stdout",
     "output_type": "stream",
     "text": [
      "Making a Dadaist poem from \"How to make a Dadaist poem\" by Tristan Tzara:\n",
      "\n",
      "– left conscientiously make your paper a out of take Shake the the original of want the carefully the newspaper. out though you they some you there of Take charming order Copy in out to in and put by the sensibility, words Next an which this from article will that after even vulgar cutting are Next And an poem this author article. bag. the infinitely the unappreciated each bag. up The herd. makes scissors. Take poem. in you. cut other. resemble gently. all one a Choose them each length article Cut\n"
     ]
    }
   ],
   "source": [
    "random.shuffle(words)\n",
    "print(\"Making a Dadaist poem from \\\"How to make a Dadaist poem\\\" by Tristan Tzara:\\n\")\n",
    "print(\" \".join(words))"
   ]
  },
  {
   "cell_type": "markdown",
   "metadata": {},
   "source": [
    "If you want the output to be a poem again, just add a few `\\n` (line breaks):"
   ]
  },
  {
   "cell_type": "code",
   "execution_count": 109,
   "metadata": {},
   "outputs": [
    {
     "name": "stdout",
     "output_type": "stream",
     "text": [
      "– left conscientiously make\n",
      "paper a out of take\n",
      "Shake the the original\n",
      "want the carefully\n",
      "out though you they\n",
      "you there of\n",
      "order Copy in\n",
      "in and put by\n",
      "sensibility, words Next\n",
      "this from article will\n",
      "after even vulgar cutting are\n",
      "Next And an poem\n",
      "author article. bag. the infinitely\n",
      "the unappreciated each bag.\n",
      "The herd. makes\n",
      "poem. in you. cut\n",
      "resemble gently. all one a\n",
      "Choose them each length\n",
      "Cut\n"
     ]
    }
   ],
   "source": [
    "for i in range(0, len(words), random.randint(3, 5)):\n",
    "    words_per_line = random.randint(3, 5)\n",
    "    print(\" \".join(words[i:i+words_per_line]))"
   ]
  },
  {
   "cell_type": "markdown",
   "metadata": {},
   "source": [
    "- That's it for the first Python Workshop. For next week, please **create your own generative poem.** It can use any of the methods of the last three workshop sessions, and include the code and a sample output."
   ]
  }
 ],
 "metadata": {
  "kernelspec": {
   "display_name": "Python 3 (ipykernel)",
   "language": "python",
   "name": "python3"
  },
  "language_info": {
   "codemirror_mode": {
    "name": "ipython",
    "version": 3
   },
   "file_extension": ".py",
   "mimetype": "text/x-python",
   "name": "python",
   "nbconvert_exporter": "python",
   "pygments_lexer": "ipython3",
   "version": "3.11.9"
  }
 },
 "nbformat": 4,
 "nbformat_minor": 4
}
